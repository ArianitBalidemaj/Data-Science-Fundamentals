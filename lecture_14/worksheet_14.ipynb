{
 "cells": [
  {
   "attachments": {},
   "cell_type": "markdown",
   "metadata": {},
   "source": [
    "# Worksheet 14\n",
    "\n",
    "Name:  Arianit Balidemaj <br>\n",
    "UID: U71435172  \n",
    "\n",
    "### Topics\n",
    "\n",
    "- Naive Bayes\n",
    "- Model Evaluation\n",
    "\n",
    "### Naive Bayes\n",
    "\n",
    "| Attribute A | Attribute B | Attribute C | Class |\n",
    "|-------------|-------------|-------------|-------|\n",
    "| Yes         | Single      | High        | No    |\n",
    "| No          | Married     | Mid         | No    |\n",
    "| No          | Single      | Low         | No    |\n",
    "| Yes         | Married     | High        | No    |\n",
    "| No          | Divorced    | Mid         | Yes   |\n",
    "| No          | Married     | Low         | No    |\n",
    "| Yes         | Divorced    | High        | No    |\n",
    "| No          | Single      | Mid         | Yes   |\n",
    "| No          | Married     | Low         | No    |\n",
    "| No          | Single      | Mid         | Yes   |\n",
    "\n",
    "a) Compute the following probabilities:\n",
    "\n",
    "- P(Attribute A = Yes | Class = No) = 3/7\n",
    "- P(Attribute B = Divorced | Class = Yes) = 2/3\n",
    "- P(Attribute C = High | Class = No) = 3/7\n",
    "- P(Attribute C = Mid | Class = Yes) = 3/3"
   ]
  },
  {
   "cell_type": "markdown",
   "metadata": {},
   "source": []
  },
  {
   "cell_type": "markdown",
   "metadata": {},
   "source": [
    "b) Classify the following unseen records:\n",
    "\n",
    "- (Yes, Married, Mid)\n",
    "P(yes| C= yes) P(Married| C= yes) P(Mid| C= yes) P(C=yes) =  0\n",
    "vs\n",
    "P(yes| C=no) P(Married| C= no) P(Mid| C= no) P(C=no) = 6/245\n",
    "\n",
    "- (No, Divorced, High)\n",
    "P(no| C= yes) P(Divorced| C= yes) P(High| C= yes) P(C=yes) = 0\n",
    "vs\n",
    "P(no| C=no) P(Divorced| C= no) P(High| C= no) P(C=no) = 6/245\n",
    "\n",
    "- (No, Single, High)\n",
    "P(no| C= yes) P(Single| C= yes) P(High| C= yes) P(C=yes) = 0\n",
    "vs\n",
    "P(no| C=no) P(Single| C= no) P(High| C= no) P(C=no) = 12/245\n",
    "\n",
    "- (No, Divorced, Low)\n",
    "P(no| C= yes) P(Divorced| C= yes) P(Low| C= yes) P(C=yes) = \n",
    "vs\n",
    "P(no| C=no) P(Divorced| C= no) P(Low| C= no) P(C=no) = 6/245"
   ]
  },
  {
   "cell_type": "markdown",
   "metadata": {},
   "source": []
  },
  {
   "cell_type": "markdown",
   "metadata": {},
   "source": [
    "### Model Evaluation\n",
    "\n",
    "a) Write a function to generate the confusion matrix for a list of actual classes and a list of predicted classes"
   ]
  },
  {
   "cell_type": "code",
   "execution_count": 1,
   "metadata": {},
   "outputs": [
    {
     "name": "stdout",
     "output_type": "stream",
     "text": [
      "(2, 4, 3, 1)\n"
     ]
    }
   ],
   "source": [
    "actual_class = [\"Yes\", \"No\", \"No\", \"Yes\", \"No\", \"No\", \"Yes\", \"No\", \"No\", \"No\"]\n",
    "predicted_class = [\"Yes\", \"No\", \"Yes\", \"No\", \"No\", \"No\", \"Yes\", \"Yes\", \"Yes\", \"No\"]\n",
    "\n",
    "def confusion_matrix(actual, predicted):\n",
    "    tp = 0\n",
    "    tn = 0\n",
    "    fp = 0\n",
    "    fn = 0\n",
    "    for i in range(len(actual)):\n",
    "        if actual[i] == predicted[i] == \"Yes\":\n",
    "            tp += 1\n",
    "        elif actual[i] == predicted[i] == \"No\":\n",
    "            tn += 1\n",
    "        elif actual[i] == \"Yes\" and predicted[i] == \"No\":\n",
    "            fn += 1\n",
    "        elif actual[i] == \"No\" and predicted[i] == \"Yes\":\n",
    "            fp += 1\n",
    "    return tp, tn, fp, fn\n",
    "\n",
    "print(confusion_matrix(actual_class, predicted_class))"
   ]
  },
  {
   "cell_type": "markdown",
   "metadata": {},
   "source": [
    "b) Assume you have the following Cost Matrix:\n",
    "\n",
    "|            | predicted = Y | predicted = N |\n",
    "|------------|---------------|---------------|\n",
    "| actual = Y |       -1      |       5       |\n",
    "| actual = N |        10     |       0       |\n",
    "\n",
    "What is the cost of the above classification?"
   ]
  },
  {
   "cell_type": "markdown",
   "metadata": {},
   "source": [
    "48"
   ]
  },
  {
   "cell_type": "markdown",
   "metadata": {},
   "source": [
    "c) Write a function that takes in the actual values, the predictions, and a cost matrix and outputs a cost. Test it on the above example."
   ]
  },
  {
   "cell_type": "code",
   "execution_count": 6,
   "metadata": {},
   "outputs": [
    {
     "name": "stdout",
     "output_type": "stream",
     "text": [
      "48\n"
     ]
    }
   ],
   "source": [
    "\n",
    "def cost(actual, predicted, cost_matrix):\n",
    "    tp, tn, fp, fn = confusion_matrix(actual, predicted)\n",
    "    return tp*cost_matrix[0][0] + tn*cost_matrix[0][1] + fp*cost_matrix[1][0] + fn*cost_matrix[1][1]\n",
    "\n",
    "cost_matrix = [[-1, 5], [10, 0]]\n",
    "print(cost(actual_class, predicted_class, cost_matrix))\n"
   ]
  },
  {
   "cell_type": "markdown",
   "metadata": {},
   "source": [
    "d) Implement functions for the following:\n",
    "\n",
    "- accuracy\n",
    "- precision\n",
    "- recall\n",
    "- f-measure\n",
    "\n",
    "and apply them to the above example."
   ]
  },
  {
   "cell_type": "code",
   "execution_count": 14,
   "metadata": {},
   "outputs": [
    {
     "name": "stdout",
     "output_type": "stream",
     "text": [
      "0.6\n",
      "0.4\n",
      "0.6666666666666666\n",
      "0.5\n"
     ]
    }
   ],
   "source": [
    "def accuracy(actual, predicted):\n",
    "    tp, tn, fp, fn = confusion_matrix(actual, predicted)\n",
    "    return (tp + tn) / (tp + tn + fp + fn)\n",
    "\n",
    "print(accuracy(actual_class, predicted_class))\n",
    "\n",
    "def precision(actual, predicted):\n",
    "    tp, tn, fp, fn = confusion_matrix(actual, predicted)\n",
    "    return tp / (tp + fp)\n",
    "\n",
    "print(precision(actual_class, predicted_class))\n",
    "\n",
    "def recall(actual, predicted):\n",
    "    tp, tn, fp, fn = confusion_matrix(actual, predicted)\n",
    "    return tp / (tp + fn)\n",
    "\n",
    "print(recall(actual_class, predicted_class))\n",
    "\n",
    "def f1_score(actual, predicted):\n",
    "    p = precision(actual, predicted)\n",
    "    r = recall(actual, predicted)\n",
    "    return 2 * (p * r) / (p + r)\n",
    "\n",
    "print(f1_score(actual_class, predicted_class))"
   ]
  }
 ],
 "metadata": {
  "kernelspec": {
   "display_name": "Python 3",
   "language": "python",
   "name": "python3"
  },
  "language_info": {
   "codemirror_mode": {
    "name": "ipython",
    "version": 3
   },
   "file_extension": ".py",
   "mimetype": "text/x-python",
   "name": "python",
   "nbconvert_exporter": "python",
   "pygments_lexer": "ipython3",
   "version": "3.8.8"
  },
  "orig_nbformat": 4,
  "vscode": {
   "interpreter": {
    "hash": "e7370f93d1d0cde622a1f8e1c04877d8463912d04d973331ad4851f04de6915a"
   }
  }
 },
 "nbformat": 4,
 "nbformat_minor": 2
}
