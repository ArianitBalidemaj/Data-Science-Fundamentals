{
 "cells": [
  {
   "attachments": {},
   "cell_type": "markdown",
   "metadata": {},
   "source": [
    "# Worksheet 08\n",
    "\n",
    "Name:  Arianit Balidemaj    <br> \n",
    "UID: U71435172 \n",
    "\n",
    "### Topics\n",
    "\n",
    "- Soft Clustering\n",
    "- Clustering Aggregation\n",
    "\n",
    "### Probability Review\n",
    "\n",
    "Read through [the following](https://medium.com/@gallettilance/overview-of-probability-3272b72c82c8)\n",
    "\n",
    "### Soft Clustering\n",
    "\n",
    "We generate 10 data points that come from a normal distribution with mean 5 and variance 1."
   ]
  },
  {
   "cell_type": "code",
   "execution_count": 1,
   "metadata": {},
   "outputs": [
    {
     "name": "stdout",
     "output_type": "stream",
     "text": [
      "[6.068076840699573, 6.970012474383582, 5.907600563216384, 5.458220974049305, 3.3668203430593415, 5.5992467635311876, 6.171154893227617, 5.354265552419672, 5.892641750915502, 4.53968749248273]\n"
     ]
    }
   ],
   "source": [
    "import random\n",
    "import numpy as np\n",
    "from sklearn.cluster import KMeans\n",
    "\n",
    "mean = 5\n",
    "stdev = 1\n",
    "\n",
    "c1 = np.random.normal(mean, stdev, 10).tolist()\n",
    "print(c1)"
   ]
  },
  {
   "cell_type": "markdown",
   "metadata": {},
   "source": [
    "a) Generate 10 more data points, this time coming from a normal distribution with mean 8 and variance 1."
   ]
  },
  {
   "cell_type": "code",
   "execution_count": 2,
   "metadata": {},
   "outputs": [
    {
     "name": "stdout",
     "output_type": "stream",
     "text": [
      "[8.42473392436914, 7.601097781890937, 8.040357973131915, 9.0459650714404, 7.8246566036057015, 8.671716130981196, 7.737128417608726, 7.910555479131794, 8.160136318963232, 8.8204639128019]\n"
     ]
    }
   ],
   "source": [
    "mean = 8\n",
    "stdev = 1\n",
    "\n",
    "c2 = np.random.normal(mean, stdev, 10).tolist()\n",
    "print(c2)"
   ]
  },
  {
   "cell_type": "markdown",
   "metadata": {},
   "source": [
    "b) Flip a fair coin 10 times. If the coin lands on H, then pick the last data point of `c1` and remove it from `c1`, if T then pick the last data point from `c2` and remove it from `c2`. Add these 10 points to a list called `data`."
   ]
  },
  {
   "cell_type": "code",
   "execution_count": 3,
   "metadata": {},
   "outputs": [
    {
     "name": "stdout",
     "output_type": "stream",
     "text": [
      "[4.53968749248273, 5.892641750915502, 8.8204639128019, 8.160136318963232, 7.910555479131794, 7.737128417608726, 5.354265552419672, 8.671716130981196, 6.171154893227617, 5.5992467635311876]\n"
     ]
    }
   ],
   "source": [
    "data = []\n",
    "for i in range(10):\n",
    "    # flip coin\n",
    "    coin_output = random.choice([0, 1])\n",
    "    if coin_output == 0:\n",
    "        p1 = c1.pop()\n",
    "        data.append(p1)\n",
    "    else:\n",
    "        p2 = c2.pop()\n",
    "        data.append(p2)\n",
    "print(data)"
   ]
  },
  {
   "cell_type": "markdown",
   "metadata": {},
   "source": [
    "c) This `data` is a Gaussian Mixture Distribution with 2 mixture components. Over the next few questions we will walk through the GMM algorithm to see if we can uncover the parameters we used to generate this data. First, please list all these parameters of the GMM that created `data` and the values we know they have."
   ]
  },
  {
   "cell_type": "markdown",
   "metadata": {},
   "source": [
    "The parameters of the GMM that created data are the mean and variance of the two normal distributions that were used to generate the data. The mean of the first normal distribution is 5 and the mean of the second normal distribution is 8. The variance of both normal distributions is 1.\n"
   ]
  },
  {
   "cell_type": "markdown",
   "metadata": {},
   "source": [
    "d) Let's assume there are two mixture components (note: we could plot the data and make the observation that there are two clusters). The EM algorithm asks us to start with a random `mean_j`, `variance_j`, `P(C_j)` for each component j. One method we could use to find sensible values for these is to apply K means with k=2 here.\n",
    "\n",
    "1. the centroids would be the estimates of the `mean_j`\n",
    "2. the intra-cluster variance could be the estimate of `variance_j`\n",
    "3. the proportion of points in each cluster could be the estimate of `P(C_j)`\n",
    "\n",
    "Go through this process and list the parameter estimates it gives. Are they close or far from the true values?"
   ]
  },
  {
   "cell_type": "code",
   "execution_count": 4,
   "metadata": {},
   "outputs": [
    {
     "name": "stdout",
     "output_type": "stream",
     "text": [
      "[4.53968749248273, 5.892641750915502, 5.354265552419672, 6.171154893227617, 5.5992467635311876]\n",
      "[8.8204639128019, 8.160136318963232, 7.910555479131794, 7.737128417608726, 8.671716130981196]\n",
      "P(C_1) = 0.5,  P(C_2) = 0.5\n",
      "mean_1 = 5.5113992905153415,  mean_2 = 8.260000051897368\n",
      "var_1 = 0.31145105550423297,  var_2 = 0.17782177793814113\n"
     ]
    },
    {
     "name": "stderr",
     "output_type": "stream",
     "text": [
      "/Users/arianith.balidemaj/opt/anaconda3/lib/python3.8/site-packages/sklearn/cluster/_kmeans.py:870: FutureWarning: The default value of `n_init` will change from 10 to 'auto' in 1.4. Set the value of `n_init` explicitly to suppress the warning\n",
      "  warnings.warn(\n"
     ]
    }
   ],
   "source": [
    "kmeans = KMeans(2, init='k-means++').fit(X=np.array(data).reshape(-1, 1))\n",
    "\n",
    "c1 = [x[0] for x in filter(lambda x: x[1] == 0, zip(data, kmeans.labels_))]\n",
    "print(c1)\n",
    "c2 = [x[0] for x in filter(lambda x: x[1] == 1, zip(data, kmeans.labels_))]\n",
    "print(c2)\n",
    "\n",
    "prob_c = [ len(c1) / (len(c1) + len(c2)) , len(c2) / (len(c1) + len(c2)) ]\n",
    "mean = [ sum(c1)/len(c1) , sum(c2)/len(c2) ]\n",
    "var = [ sum(map(lambda x : (x - mean[0])**2, c1)) / len(c1) , sum(map(lambda x : (x - mean[1])**2, c2)) / len(c2) ]\n",
    "\n",
    "print(\"P(C_1) = \" + str(prob_c[0]) + \",  P(C_2) = \" + str(prob_c[1]))\n",
    "print(\"mean_1 = \" + str(mean[0]) + \",  mean_2 = \" + str(mean[1]))\n",
    "print(\"var_1 = \" + str(var[0]) + \",  var_2 = \" + str(var[1]))"
   ]
  },
  {
   "cell_type": "markdown",
   "metadata": {},
   "source": []
  },
  {
   "cell_type": "markdown",
   "metadata": {},
   "source": [
    "e) For each data point, compute `P(C_j | X_i)`. Comment on which cluster you think each point belongs to based on the estimated probabilities. How does that compare to the truth?"
   ]
  },
  {
   "cell_type": "code",
   "execution_count": 5,
   "metadata": {},
   "outputs": [
    {
     "name": "stdout",
     "output_type": "stream",
     "text": [
      "point =  4.53968749248273\n",
      "probability of observing that point if it came from cluster 0 =  0.009858017143644676\n",
      "probability of observing that point if it came from cluster 1 =  2.0084497612366644e-95\n",
      "point =  5.892641750915502\n",
      "probability of observing that point if it came from cluster 0 =  0.6055506398718831\n",
      "probability of observing that point if it came from cluster 1 =  7.312596986125228e-39\n",
      "point =  8.8204639128019\n",
      "probability of observing that point if it came from cluster 0 =  3.9369162335608384e-25\n",
      "probability of observing that point if it came from cluster 1 =  0.015623509031141736\n",
      "point =  8.160136318963232\n",
      "probability of observing that point if it came from cluster 0 =  2.523468171871527e-16\n",
      "probability of observing that point if it came from cluster 1 =  1.91619366446378\n",
      "point =  7.910555479131794\n",
      "probability of observing that point if it came from cluster 0 =  1.668410811949879e-13\n",
      "probability of observing that point if it came from cluster 1 =  0.32535077076505353\n",
      "point =  7.737128417608726\n",
      "probability of observing that point if it came from cluster 0 =  1.0419153958735671e-11\n",
      "probability of observing that point if it came from cluster 1 =  0.02974735109885561\n",
      "point =  5.354265552419672\n",
      "probability of observing that point if it came from cluster 0 =  1.1278392097620147\n",
      "probability of observing that point if it came from cluster 1 =  2.3362157830041165e-58\n",
      "point =  8.671716130981196\n",
      "probability of observing that point if it came from cluster 0 =  5.615207206202113e-23\n",
      "probability of observing that point if it came from cluster 1 =  0.15376323032748188\n",
      "point =  6.171154893227617\n",
      "probability of observing that point if it came from cluster 0 =  0.13586643531479164\n",
      "probability of observing that point if it came from cluster 1 =  2.4385033739536634e-30\n",
      "point =  5.5992467635311876\n",
      "probability of observing that point if it came from cluster 0 =  1.230962022915722\n",
      "probability of observing that point if it came from cluster 1 =  5.4114280031766575e-49\n",
      "4.53968749248273\n",
      "Probability of coming from C_1 = 1.0\n",
      "Probability of coming from C_2 = 2.0373770221443402e-93\n",
      "\n",
      "5.892641750915502\n",
      "Probability of coming from C_1 = 1.0\n",
      "Probability of coming from C_2 = 1.2075946262186035e-38\n",
      "\n",
      "8.8204639128019\n",
      "Probability of coming from C_1 = 2.519866840230025e-23\n",
      "Probability of coming from C_2 = 1.0\n",
      "\n",
      "8.160136318963232\n",
      "Probability of coming from C_1 = 1.316917083418958e-16\n",
      "Probability of coming from C_2 = 0.9999999999999999\n",
      "\n",
      "7.910555479131794\n",
      "Probability of coming from C_1 = 5.128037066043522e-13\n",
      "Probability of coming from C_2 = 0.9999999999994871\n",
      "\n",
      "7.737128417608726\n",
      "Probability of coming from C_1 = 3.502548485901032e-10\n",
      "Probability of coming from C_2 = 0.9999999996497451\n",
      "\n",
      "5.354265552419672\n",
      "Probability of coming from C_1 = 1.0\n",
      "Probability of coming from C_2 = 2.0714085507783343e-58\n",
      "\n",
      "8.671716130981196\n",
      "Probability of coming from C_1 = 3.6518530433075296e-22\n",
      "Probability of coming from C_2 = 1.0\n",
      "\n",
      "6.171154893227617\n",
      "Probability of coming from C_1 = 1.0\n",
      "Probability of coming from C_2 = 1.7947798279272186e-29\n",
      "\n",
      "5.5992467635311876\n",
      "Probability of coming from C_1 = 1.0\n",
      "Probability of coming from C_2 = 4.396096632095003e-49\n",
      "\n"
     ]
    }
   ],
   "source": [
    "from scipy.stats import norm\n",
    "\n",
    "prob_c0_x = [] # P(C_0 | X_i)\n",
    "prob_c1_x = [] # P(C_1 | X_i)\n",
    "prob_x = [] # P(X_i)\n",
    "\n",
    "k = 2\n",
    "\n",
    "for p in data:\n",
    "    print(\"point = \", p)\n",
    "    pdf_i = []\n",
    "\n",
    "    for j in range(k):\n",
    "        # P(X_i | C_j)\n",
    "        pdf_i.append(norm.pdf(p, mean[j], var[j]))\n",
    "        print(\"probability of observing that point if it came from cluster \" + str(j) + \" = \", pdf_i[j])\n",
    "        # P(C_j) already computed\n",
    "        prob_c[j]\n",
    "\n",
    "    # P(X_i) = P(C_0)P(X_i | C_0) + P(C_1)P(X_i | C_1)\n",
    "    prob_x = prob_c[0] * pdf_i[0] + prob_c[1] * pdf_i[1]\n",
    "\n",
    "    # P(C_j | X_i) = P(X_i | C_j)P(C_j) / P(X_i)\n",
    "    prob_c0_x.append( prob_c[0] * pdf_i[0] / prob_x )\n",
    "    prob_c1_x.append( prob_c[1] * pdf_i[1] / prob_x )\n",
    "\n",
    "probs = zip(data, prob_c0_x, prob_c1_x)\n",
    "for p in probs:\n",
    "    print(p[0])\n",
    "    print(\"Probability of coming from C_1 = \" + str(p[1]))\n",
    "    print(\"Probability of coming from C_2 = \" + str(p[2]))\n",
    "    print()\n"
   ]
  },
  {
   "cell_type": "markdown",
   "metadata": {},
   "source": [
    "f) Having computed `P(C_j | X_i)`, update the estimates of `mean_j`, `var_j`, and `P(C_j)`. How different are these values from the original ones you got from K means? briefly comment."
   ]
  },
  {
   "cell_type": "code",
   "execution_count": 6,
   "metadata": {},
   "outputs": [
    {
     "name": "stdout",
     "output_type": "stream",
     "text": [
      "P(C_1) = 0.5000000000350768,  P(C_2) = 0.49999999996492317\n",
      "mean_1 = 5.511399290671502,  mean_2 = 8.260000051934034\n",
      "var_1 = 0.3114510558299973,  var_2 = 0.1778217779314519\n"
     ]
    }
   ],
   "source": [
    "prob_c = [sum(prob_c0_x)/ len(prob_c0_x), sum(prob_c1_x)/ len(prob_c1_x) ]\n",
    "mean = [sum([x[0] * x[1] for x in zip(prob_c0_x, data)]) / sum(prob_c0_x), sum([x[0] * x[1] for x in zip(prob_c1_x, data)]) / sum(prob_c1_x) ]\n",
    "var = [sum([x[0] * (x[1] - mean[0])**2 for x in zip(prob_c0_x, data)]) / sum(prob_c0_x), sum([x[0] * (x[1] - mean[1])**2 for x in zip(prob_c1_x, data)]) / sum(prob_c1_x)]\n",
    "\n",
    "print(\"P(C_1) = \" + str(prob_c[0]) + \",  P(C_2) = \" + str(prob_c[1]))\n",
    "print(\"mean_1 = \" + str(mean[0]) + \",  mean_2 = \" + str(mean[1]))\n",
    "print(\"var_1 = \" + str(var[0]) + \",  var_2 = \" + str(var[1]))"
   ]
  },
  {
   "cell_type": "markdown",
   "metadata": {},
   "source": [
    "They are roughly the same in terms of means and variance, very very similar. "
   ]
  },
  {
   "cell_type": "markdown",
   "metadata": {},
   "source": [
    "g) Update `P(C_j | X_i)`. Comment on any differences or lack thereof you observe."
   ]
  },
  {
   "cell_type": "code",
   "execution_count": 9,
   "metadata": {},
   "outputs": [
    {
     "name": "stdout",
     "output_type": "stream",
     "text": [
      "Updated P(C_0 | X_i) =  [0.8123727470499054, 0.8123727470499054, 2.0470711471976304e-23, 1.0698275486940081e-16, 4.165877558315513e-13, 2.845374935166908e-10, 0.8123727470499054, 2.966665888614295e-22, 0.8123727470499054, 0.8123727470499054]\n",
      "Updated P(C_1 | X_i) =  [1.6551095680235293e-93, 9.810169636862666e-39, 0.8123727469359234, 0.8123727469359234, 0.8123727469355068, 0.8123727466513859, 1.682755854422356e-58, 0.8123727469359234, 1.4580302189584186e-29, 3.5712690968107795e-49]\n"
     ]
    }
   ],
   "source": [
    "updated_prob_c0_x = [] \n",
    "updated_prob_c1_x = []  \n",
    "\n",
    "for p, pc0_x, pc1_x in zip(data, prob_c0_x, prob_c1_x):\n",
    "    updated_pc0_x = (pc0_x * prob_c[0]) / prob_x\n",
    "    updated_pc1_x = (pc1_x * prob_c[1]) / prob_x\n",
    "\n",
    "    updated_prob_c0_x.append(updated_pc0_x)\n",
    "    updated_prob_c1_x.append(updated_pc1_x)\n",
    "\n",
    "print(\"Updated P(C_0 | X_i) = \", updated_prob_c0_x)\n",
    "print(\"Updated P(C_1 | X_i) = \", updated_prob_c1_x)\n",
    "\n"
   ]
  },
  {
   "cell_type": "markdown",
   "metadata": {},
   "source": [
    "It is the exact same thing."
   ]
  },
  {
   "cell_type": "markdown",
   "metadata": {},
   "source": [
    "h) Use `P(C_j | X_i)` to create a hard assignment - label each point as belonging to a specific cluster (0 or 1)"
   ]
  },
  {
   "cell_type": "code",
   "execution_count": 11,
   "metadata": {},
   "outputs": [
    {
     "name": "stdout",
     "output_type": "stream",
     "text": [
      "Hard assignments =  [0, 0, 1, 1, 1, 1, 0, 1, 0, 0]\n"
     ]
    }
   ],
   "source": [
    "hard_assignments = [] \n",
    "\n",
    "for pc0_x, pc1_x in zip(updated_prob_c0_x, updated_prob_c1_x):\n",
    "    if pc0_x >= pc1_x:\n",
    "        hard_assignments.append(0)\n",
    "    else:\n",
    "        hard_assignments.append(1)\n",
    "\n",
    "print(\"Hard assignments = \", hard_assignments)"
   ]
  },
  {
   "cell_type": "markdown",
   "metadata": {},
   "source": [
    "### Clustering Aggregation\n",
    "\n",
    "| Point | C | P |\n",
    "|-------|---|---|\n",
    "| A     | 0 | a |\n",
    "| B     | 0 | b |\n",
    "| C     | 2 | b |\n",
    "| D     | 1 | c |\n",
    "| E     | 1 | d |\n",
    "\n",
    "a) Fill in the following table where for each pair of points determine whether C and P agree or disagree on how to cluster that pair."
   ]
  },
  {
   "cell_type": "markdown",
   "metadata": {},
   "source": [
    "| Pair | Disagreement |\n",
    "|------|--------------|\n",
    "| A  B |      Disagree       |\n",
    "| A  C |      Disagree       |\n",
    "| A  D |      Disagree       |\n",
    "| A  E |      Disagree       |\n",
    "| B  C |      Disagree       |\n",
    "| B  D |      Disagree       |\n",
    "| B  E |      Disagree       |\n",
    "| C  D |      Disagree       |\n",
    "| C  E |      Disagree       |\n",
    "| D  E |      Disagree       |\n"
   ]
  },
  {
   "cell_type": "markdown",
   "metadata": {},
   "source": [
    "As datasets become very large, this process can become computationally challenging.\n",
    "\n",
    "b) Given N points, what is the formula for the number of unique pairs of points one can create?"
   ]
  },
  {
   "cell_type": "markdown",
   "metadata": {},
   "source": [
    "N(N-1)/2"
   ]
  },
  {
   "cell_type": "markdown",
   "metadata": {},
   "source": [
    "Assume that clustering C clusters all points in the same cluster and clustering P clusters points as such:\n",
    "\n",
    "| Point | P |\n",
    "|-------|---|\n",
    "| A     | 0 |\n",
    "| B     | 0 |\n",
    "| C     | 0 |\n",
    "| D     | 1 |\n",
    "| E     | 1 |\n",
    "| F     | 2 |\n",
    "| G     | 2 |\n",
    "| H     | 2 |\n",
    "| I     | 2 |\n",
    "\n",
    "c) What is the maximum number of disagreements there could be for a dataset of this size? (use the formula from b)?"
   ]
  },
  {
   "cell_type": "markdown",
   "metadata": {},
   "source": [
    "36"
   ]
  },
  {
   "cell_type": "markdown",
   "metadata": {},
   "source": [
    "d) If we look at cluster 0. There are (3 x 2) / 2 = 3 pairs that agree with C (since all points in C are in the same cluster). For each cluster, determine how many agreements there are. How many total agreements are there? How many disagreements does that mean there are between C and P?"
   ]
  },
  {
   "cell_type": "markdown",
   "metadata": {},
   "source": [
    "Total Agreements = 3 + 1 + 6 = 10\n",
    "Total Disagreements = 36 - 10 = 26\n"
   ]
  },
  {
   "cell_type": "markdown",
   "metadata": {},
   "source": [
    "e) Assuming that filtering the dataset by cluster number is a computationally easy operation, describe an algorithm inspired by the above process that can efficiently compute disagreement distances on large datasets."
   ]
  },
  {
   "cell_type": "markdown",
   "metadata": {},
   "source": [
    "We can use a similar algorithm to what we did above but instead of comparing each pair of points we can just compare the points within each cluster. This will reduce the number of comparisons we have to make in general."
   ]
  }
 ],
 "metadata": {
  "interpreter": {
   "hash": "76ca05dc3ea24b2e3b98cdb7774adfbb40773424bf5109b477fd793f623715af"
  },
  "kernelspec": {
   "display_name": "Python 3.9.9 64-bit ('env': venv)",
   "language": "python",
   "name": "python3"
  },
  "language_info": {
   "codemirror_mode": {
    "name": "ipython",
    "version": 3
   },
   "file_extension": ".py",
   "mimetype": "text/x-python",
   "name": "python",
   "nbconvert_exporter": "python",
   "pygments_lexer": "ipython3",
   "version": "3.8.8"
  },
  "orig_nbformat": 4
 },
 "nbformat": 4,
 "nbformat_minor": 2
}
